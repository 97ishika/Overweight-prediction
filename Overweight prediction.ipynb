{
 "cells": [
  {
   "cell_type": "code",
   "execution_count": 50,
   "metadata": {},
   "outputs": [],
   "source": [
    "import pandas as pd\n",
    "import numpy as np"
   ]
  },
  {
   "cell_type": "code",
   "execution_count": 71,
   "metadata": {},
   "outputs": [],
   "source": [
    "df = pd.read_csv(\"Obesity.csv\")"
   ]
  },
  {
   "cell_type": "code",
   "execution_count": 72,
   "metadata": {},
   "outputs": [],
   "source": [
    "df.loc[df['Gender'] == 'Male', 'Sex'] = 1\n",
    "df.loc[df['Gender'] == 'Female', 'Sex'] = 0"
   ]
  },
  {
   "cell_type": "code",
   "execution_count": 73,
   "metadata": {},
   "outputs": [
    {
     "data": {
      "text/plain": [
       "Index(['Gender', 'Age', 'Height', 'Weight', 'family_history_with_overweight',\n",
       "       'FAVC', 'FCVC', 'NCP', 'CAEC', 'SMOKE', 'CH2O', 'SCC', 'FAF', 'TUE',\n",
       "       'CALC', 'MTRANS', 'NObeyesdad', 'Sex'],\n",
       "      dtype='object')"
      ]
     },
     "execution_count": 73,
     "metadata": {},
     "output_type": "execute_result"
    }
   ],
   "source": [
    "df.columns"
   ]
  },
  {
   "cell_type": "code",
   "execution_count": 74,
   "metadata": {},
   "outputs": [],
   "source": [
    "df = df.drop(['family_history_with_overweight', 'FAVC', 'FCVC', 'NCP', 'CAEC', 'SMOKE', 'CH2O', 'SCC', 'FAF', 'TUE',\n",
    "       'CALC', 'MTRANS', 'NObeyesdad'], axis = 1)"
   ]
  },
  {
   "cell_type": "markdown",
   "metadata": {},
   "source": [
    "Note: Body Mass Index (BMI) was\n",
    "calculated dividing weight in kg by (height * height) in metre square"
   ]
  },
  {
   "cell_type": "code",
   "execution_count": 75,
   "metadata": {},
   "outputs": [],
   "source": [
    "df['BMI'] = df[\"Weight\"]/ (df[\"Height\"] * df[\"Height\"])"
   ]
  },
  {
   "cell_type": "markdown",
   "metadata": {},
   "source": [
    "Note: Body Fat % = − 44.988 + (0.503 × age) + (10.689 × sex) +\n",
    "(3.172 × BMI) - (0.026 × BMI2\n",
    ") + (0.181 × BMI × sex) -\n",
    "(0.02 × BMI × age) - (0.005 × BMI2\n",
    " × sex) + (0.00021 ×\n",
    "BMI2\n",
    " × age), where, BMI = body mass index, male = 0 and\n",
    "female = 1 for sex"
   ]
  },
  {
   "cell_type": "code",
   "execution_count": 76,
   "metadata": {},
   "outputs": [],
   "source": [
    "df[\"body_fat\"] = -44.988 + (0.503 * df[\"Age\"]) + (10.689 * df[\"Sex\"]) + (3.172 * df[\"BMI\"]) - (0.026 * df[\"BMI\"] * df[\"BMI\"]) + (0.181 * df[\"BMI\"] * df[\"Sex\"]) - (0.02 * df[\"BMI\"] * df[\"Age\"]) - (0.005 * df[\"BMI\"] * df[\"BMI\"] * df[\"Sex\"]) + (0.00021 * df[\"BMI\"] * df[\"BMI\"] * df[\"Age\"])"
   ]
  },
  {
   "cell_type": "code",
   "execution_count": 77,
   "metadata": {},
   "outputs": [
    {
     "data": {
      "text/plain": [
       "count    2111.000000\n",
       "mean       32.935562\n",
       "std        12.847703\n",
       "min        -3.522734\n",
       "25%        23.285277\n",
       "50%        35.246980\n",
       "75%        43.809730\n",
       "max        56.204440\n",
       "Name: body_fat, dtype: float64"
      ]
     },
     "execution_count": 77,
     "metadata": {},
     "output_type": "execute_result"
    }
   ],
   "source": [
    "df[\"body_fat\"].describe()"
   ]
  },
  {
   "cell_type": "markdown",
   "metadata": {},
   "source": [
    "Note:\n",
    "The female\n",
    "subjects whose BMI ≥ 25 kg/m2\n",
    " correspond to body fat >\n",
    "32% were classified into overweight group and BMI < 25\n",
    "kg/m2\n",
    " correspond to body fat ≤ 32% were classified into no\n",
    "overweight group. Considering BMI ≥ 25 kg/m2\n",
    " correspond\n",
    "to body fat > 23%, the male subjects were classified into\n",
    "overweight group and BMI < 25 kg/m2\n",
    " correspond to body\n",
    "fat ≤ 23% were classified into no overweight group [10, 15,\n",
    "16]. "
   ]
  },
  {
   "cell_type": "code",
   "execution_count": 78,
   "metadata": {},
   "outputs": [],
   "source": [
    "def overweight_cal(x):\n",
    "  if x['Gender'] == 'Male' and x['BMI'] >= 25 and x[\"body_fat\"] > 23: return 1\n",
    "  elif x['Gender'] == 'Male' and x['BMI'] < 25 and x[\"body_fat\"] < 23: return 0\n",
    "  elif x['Gender'] == 'Female' and x['BMI'] >= 25 and x[\"body_fat\"] > 23: return 1\n",
    "  else: return 0\n",
    "\n",
    "df['Overweight'] = df.apply(overweight_cal, axis=1)"
   ]
  },
  {
   "cell_type": "code",
   "execution_count": 79,
   "metadata": {},
   "outputs": [
    {
     "data": {
      "text/html": [
       "<div>\n",
       "<style scoped>\n",
       "    .dataframe tbody tr th:only-of-type {\n",
       "        vertical-align: middle;\n",
       "    }\n",
       "\n",
       "    .dataframe tbody tr th {\n",
       "        vertical-align: top;\n",
       "    }\n",
       "\n",
       "    .dataframe thead th {\n",
       "        text-align: right;\n",
       "    }\n",
       "</style>\n",
       "<table border=\"1\" class=\"dataframe\">\n",
       "  <thead>\n",
       "    <tr style=\"text-align: right;\">\n",
       "      <th></th>\n",
       "      <th>Gender</th>\n",
       "      <th>Age</th>\n",
       "      <th>Height</th>\n",
       "      <th>Weight</th>\n",
       "      <th>Sex</th>\n",
       "      <th>BMI</th>\n",
       "      <th>body_fat</th>\n",
       "      <th>Overweight</th>\n",
       "    </tr>\n",
       "  </thead>\n",
       "  <tbody>\n",
       "    <tr>\n",
       "      <th>0</th>\n",
       "      <td>Female</td>\n",
       "      <td>21.0</td>\n",
       "      <td>1.62</td>\n",
       "      <td>64.0</td>\n",
       "      <td>0.0</td>\n",
       "      <td>24.386526</td>\n",
       "      <td>19.847090</td>\n",
       "      <td>0</td>\n",
       "    </tr>\n",
       "    <tr>\n",
       "      <th>1</th>\n",
       "      <td>Female</td>\n",
       "      <td>21.0</td>\n",
       "      <td>1.52</td>\n",
       "      <td>56.0</td>\n",
       "      <td>0.0</td>\n",
       "      <td>24.238227</td>\n",
       "      <td>19.594656</td>\n",
       "      <td>0</td>\n",
       "    </tr>\n",
       "    <tr>\n",
       "      <th>2</th>\n",
       "      <td>Male</td>\n",
       "      <td>23.0</td>\n",
       "      <td>1.80</td>\n",
       "      <td>77.0</td>\n",
       "      <td>1.0</td>\n",
       "      <td>23.765432</td>\n",
       "      <td>31.242690</td>\n",
       "      <td>0</td>\n",
       "    </tr>\n",
       "    <tr>\n",
       "      <th>3</th>\n",
       "      <td>Male</td>\n",
       "      <td>27.0</td>\n",
       "      <td>1.80</td>\n",
       "      <td>87.0</td>\n",
       "      <td>1.0</td>\n",
       "      <td>26.851852</td>\n",
       "      <td>36.552773</td>\n",
       "      <td>1</td>\n",
       "    </tr>\n",
       "    <tr>\n",
       "      <th>4</th>\n",
       "      <td>Male</td>\n",
       "      <td>22.0</td>\n",
       "      <td>1.78</td>\n",
       "      <td>89.8</td>\n",
       "      <td>1.0</td>\n",
       "      <td>28.342381</td>\n",
       "      <td>38.137551</td>\n",
       "      <td>1</td>\n",
       "    </tr>\n",
       "    <tr>\n",
       "      <th>5</th>\n",
       "      <td>Male</td>\n",
       "      <td>29.0</td>\n",
       "      <td>1.62</td>\n",
       "      <td>53.0</td>\n",
       "      <td>1.0</td>\n",
       "      <td>20.195092</td>\n",
       "      <td>26.129653</td>\n",
       "      <td>0</td>\n",
       "    </tr>\n",
       "    <tr>\n",
       "      <th>6</th>\n",
       "      <td>Female</td>\n",
       "      <td>23.0</td>\n",
       "      <td>1.50</td>\n",
       "      <td>55.0</td>\n",
       "      <td>0.0</td>\n",
       "      <td>24.444444</td>\n",
       "      <td>20.224605</td>\n",
       "      <td>0</td>\n",
       "    </tr>\n",
       "    <tr>\n",
       "      <th>7</th>\n",
       "      <td>Male</td>\n",
       "      <td>22.0</td>\n",
       "      <td>1.64</td>\n",
       "      <td>53.0</td>\n",
       "      <td>1.0</td>\n",
       "      <td>19.705532</td>\n",
       "      <td>23.925651</td>\n",
       "      <td>0</td>\n",
       "    </tr>\n",
       "    <tr>\n",
       "      <th>8</th>\n",
       "      <td>Male</td>\n",
       "      <td>24.0</td>\n",
       "      <td>1.78</td>\n",
       "      <td>64.0</td>\n",
       "      <td>1.0</td>\n",
       "      <td>20.199470</td>\n",
       "      <td>25.213914</td>\n",
       "      <td>0</td>\n",
       "    </tr>\n",
       "    <tr>\n",
       "      <th>9</th>\n",
       "      <td>Male</td>\n",
       "      <td>22.0</td>\n",
       "      <td>1.72</td>\n",
       "      <td>68.0</td>\n",
       "      <td>1.0</td>\n",
       "      <td>22.985398</td>\n",
       "      <td>29.786157</td>\n",
       "      <td>0</td>\n",
       "    </tr>\n",
       "  </tbody>\n",
       "</table>\n",
       "</div>"
      ],
      "text/plain": [
       "   Gender   Age  Height  Weight  Sex        BMI   body_fat  Overweight\n",
       "0  Female  21.0    1.62    64.0  0.0  24.386526  19.847090           0\n",
       "1  Female  21.0    1.52    56.0  0.0  24.238227  19.594656           0\n",
       "2    Male  23.0    1.80    77.0  1.0  23.765432  31.242690           0\n",
       "3    Male  27.0    1.80    87.0  1.0  26.851852  36.552773           1\n",
       "4    Male  22.0    1.78    89.8  1.0  28.342381  38.137551           1\n",
       "5    Male  29.0    1.62    53.0  1.0  20.195092  26.129653           0\n",
       "6  Female  23.0    1.50    55.0  0.0  24.444444  20.224605           0\n",
       "7    Male  22.0    1.64    53.0  1.0  19.705532  23.925651           0\n",
       "8    Male  24.0    1.78    64.0  1.0  20.199470  25.213914           0\n",
       "9    Male  22.0    1.72    68.0  1.0  22.985398  29.786157           0"
      ]
     },
     "execution_count": 79,
     "metadata": {},
     "output_type": "execute_result"
    }
   ],
   "source": [
    "df.head(10)"
   ]
  },
  {
   "cell_type": "markdown",
   "metadata": {},
   "source": [
    "Pearson's correlation coefficient was used to determine the\n",
    "relationship between BMI and BF% with the continuous\n",
    "explanatory variables"
   ]
  },
  {
   "cell_type": "code",
   "execution_count": 80,
   "metadata": {},
   "outputs": [
    {
     "data": {
      "text/html": [
       "<div>\n",
       "<style scoped>\n",
       "    .dataframe tbody tr th:only-of-type {\n",
       "        vertical-align: middle;\n",
       "    }\n",
       "\n",
       "    .dataframe tbody tr th {\n",
       "        vertical-align: top;\n",
       "    }\n",
       "\n",
       "    .dataframe thead th {\n",
       "        text-align: right;\n",
       "    }\n",
       "</style>\n",
       "<table border=\"1\" class=\"dataframe\">\n",
       "  <thead>\n",
       "    <tr style=\"text-align: right;\">\n",
       "      <th></th>\n",
       "      <th>Age</th>\n",
       "      <th>Height</th>\n",
       "      <th>Weight</th>\n",
       "      <th>Sex</th>\n",
       "      <th>BMI</th>\n",
       "      <th>body_fat</th>\n",
       "      <th>Overweight</th>\n",
       "    </tr>\n",
       "  </thead>\n",
       "  <tbody>\n",
       "    <tr>\n",
       "      <th>Age</th>\n",
       "      <td>1.000000</td>\n",
       "      <td>-0.025958</td>\n",
       "      <td>0.202560</td>\n",
       "      <td>0.048394</td>\n",
       "      <td>0.244163</td>\n",
       "      <td>0.316694</td>\n",
       "      <td>0.370772</td>\n",
       "    </tr>\n",
       "    <tr>\n",
       "      <th>Height</th>\n",
       "      <td>-0.025958</td>\n",
       "      <td>1.000000</td>\n",
       "      <td>0.463136</td>\n",
       "      <td>0.618466</td>\n",
       "      <td>0.131785</td>\n",
       "      <td>0.393595</td>\n",
       "      <td>0.161323</td>\n",
       "    </tr>\n",
       "    <tr>\n",
       "      <th>Weight</th>\n",
       "      <td>0.202560</td>\n",
       "      <td>0.463136</td>\n",
       "      <td>1.000000</td>\n",
       "      <td>0.161668</td>\n",
       "      <td>0.934806</td>\n",
       "      <td>0.899336</td>\n",
       "      <td>0.725173</td>\n",
       "    </tr>\n",
       "    <tr>\n",
       "      <th>Sex</th>\n",
       "      <td>0.048394</td>\n",
       "      <td>0.618466</td>\n",
       "      <td>0.161668</td>\n",
       "      <td>1.000000</td>\n",
       "      <td>-0.053035</td>\n",
       "      <td>0.439351</td>\n",
       "      <td>0.167145</td>\n",
       "    </tr>\n",
       "    <tr>\n",
       "      <th>BMI</th>\n",
       "      <td>0.244163</td>\n",
       "      <td>0.131785</td>\n",
       "      <td>0.934806</td>\n",
       "      <td>-0.053035</td>\n",
       "      <td>1.000000</td>\n",
       "      <td>0.863272</td>\n",
       "      <td>0.759360</td>\n",
       "    </tr>\n",
       "    <tr>\n",
       "      <th>body_fat</th>\n",
       "      <td>0.316694</td>\n",
       "      <td>0.393595</td>\n",
       "      <td>0.899336</td>\n",
       "      <td>0.439351</td>\n",
       "      <td>0.863272</td>\n",
       "      <td>1.000000</td>\n",
       "      <td>0.805089</td>\n",
       "    </tr>\n",
       "    <tr>\n",
       "      <th>Overweight</th>\n",
       "      <td>0.370772</td>\n",
       "      <td>0.161323</td>\n",
       "      <td>0.725173</td>\n",
       "      <td>0.167145</td>\n",
       "      <td>0.759360</td>\n",
       "      <td>0.805089</td>\n",
       "      <td>1.000000</td>\n",
       "    </tr>\n",
       "  </tbody>\n",
       "</table>\n",
       "</div>"
      ],
      "text/plain": [
       "                 Age    Height    Weight       Sex       BMI  body_fat  \\\n",
       "Age         1.000000 -0.025958  0.202560  0.048394  0.244163  0.316694   \n",
       "Height     -0.025958  1.000000  0.463136  0.618466  0.131785  0.393595   \n",
       "Weight      0.202560  0.463136  1.000000  0.161668  0.934806  0.899336   \n",
       "Sex         0.048394  0.618466  0.161668  1.000000 -0.053035  0.439351   \n",
       "BMI         0.244163  0.131785  0.934806 -0.053035  1.000000  0.863272   \n",
       "body_fat    0.316694  0.393595  0.899336  0.439351  0.863272  1.000000   \n",
       "Overweight  0.370772  0.161323  0.725173  0.167145  0.759360  0.805089   \n",
       "\n",
       "            Overweight  \n",
       "Age           0.370772  \n",
       "Height        0.161323  \n",
       "Weight        0.725173  \n",
       "Sex           0.167145  \n",
       "BMI           0.759360  \n",
       "body_fat      0.805089  \n",
       "Overweight    1.000000  "
      ]
     },
     "execution_count": 80,
     "metadata": {},
     "output_type": "execute_result"
    }
   ],
   "source": [
    "df.corr(method = 'pearson')"
   ]
  },
  {
   "cell_type": "code",
   "execution_count": null,
   "metadata": {},
   "outputs": [],
   "source": []
  }
 ],
 "metadata": {
  "kernelspec": {
   "display_name": "Python 3",
   "language": "python",
   "name": "python3"
  },
  "language_info": {
   "codemirror_mode": {
    "name": "ipython",
    "version": 3
   },
   "file_extension": ".py",
   "mimetype": "text/x-python",
   "name": "python",
   "nbconvert_exporter": "python",
   "pygments_lexer": "ipython3",
   "version": "3.7.6"
  }
 },
 "nbformat": 4,
 "nbformat_minor": 4
}
