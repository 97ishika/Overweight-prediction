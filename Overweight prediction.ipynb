{
 "cells": [
  {
   "cell_type": "code",
   "execution_count": 50,
   "metadata": {},
   "outputs": [],
   "source": [
    "import pandas as pd\n",
    "import numpy as np"
   ]
  },
  {
   "cell_type": "code",
   "execution_count": 51,
   "metadata": {},
   "outputs": [],
   "source": [
    "df = pd.read_csv(\"Obesity.csv\")"
   ]
  },
  {
   "cell_type": "code",
   "execution_count": 52,
   "metadata": {},
   "outputs": [],
   "source": [
    "df.loc[df['Gender'] == 'Male', 'Sex'] = 1\n",
    "df.loc[df['Gender'] == 'Female', 'Sex'] = 0"
   ]
  },
  {
   "cell_type": "code",
   "execution_count": 53,
   "metadata": {},
   "outputs": [
    {
     "data": {
      "text/plain": [
       "Index(['Gender', 'Age', 'Height', 'Weight', 'family_history_with_overweight',\n",
       "       'FAVC', 'FCVC', 'NCP', 'CAEC', 'SMOKE', 'CH2O', 'SCC', 'FAF', 'TUE',\n",
       "       'CALC', 'MTRANS', 'NObeyesdad', 'Sex'],\n",
       "      dtype='object')"
      ]
     },
     "execution_count": 53,
     "metadata": {},
     "output_type": "execute_result"
    }
   ],
   "source": [
    "df.columns"
   ]
  },
  {
   "cell_type": "code",
   "execution_count": 54,
   "metadata": {},
   "outputs": [],
   "source": [
    "df = df.drop(['family_history_with_overweight', 'FAVC', 'FCVC', 'NCP', 'CAEC', 'SMOKE', 'CH2O', 'SCC', 'FAF', 'TUE',\n",
    "       'CALC', 'MTRANS', 'NObeyesdad'], axis = 1)"
   ]
  },
  {
   "cell_type": "markdown",
   "metadata": {},
   "source": [
    "Note: Body Mass Index (BMI) was\n",
    "calculated dividing weight in kg by (height * height) in metre square"
   ]
  },
  {
   "cell_type": "code",
   "execution_count": 55,
   "metadata": {},
   "outputs": [],
   "source": [
    "df['BMI'] = df[\"Weight\"]/ (df[\"Height\"] * df[\"Height\"])"
   ]
  },
  {
   "cell_type": "markdown",
   "metadata": {},
   "source": [
    "Note: Body Fat % = − 44.988 + (0.503 × age) + (10.689 × sex) +\n",
    "(3.172 × BMI) - (0.026 × BMI2\n",
    ") + (0.181 × BMI × sex) -\n",
    "(0.02 × BMI × age) - (0.005 × BMI2\n",
    " × sex) + (0.00021 ×\n",
    "BMI2\n",
    " × age), where, BMI = body mass index, male = 0 and\n",
    "female = 1 for sex"
   ]
  },
  {
   "cell_type": "code",
   "execution_count": 56,
   "metadata": {},
   "outputs": [],
   "source": [
    "df[\"body_fat\"] = -44.988 + (0.503 * df[\"Age\"]) + (10.689 * df[\"Sex\"]) + (3.172 * df[\"BMI\"]) - (0.026 * df[\"BMI\"] * df[\"BMI\"]) + (0.181 * df[\"BMI\"] * df[\"Sex\"]) - (0.02 * df[\"BMI\"] * df[\"Age\"]) - (0.005 * df[\"BMI\"] * df[\"BMI\"] * df[\"Sex\"]) + (0.00021 * df[\"BMI\"] * df[\"BMI\"] * df[\"Age\"])"
   ]
  },
  {
   "cell_type": "code",
   "execution_count": 57,
   "metadata": {},
   "outputs": [
    {
     "data": {
      "text/plain": [
       "count    2111.000000\n",
       "mean       32.935562\n",
       "std        12.847703\n",
       "min        -3.522734\n",
       "25%        23.285277\n",
       "50%        35.246980\n",
       "75%        43.809730\n",
       "max        56.204440\n",
       "Name: body_fat, dtype: float64"
      ]
     },
     "execution_count": 57,
     "metadata": {},
     "output_type": "execute_result"
    }
   ],
   "source": [
    "df[\"body_fat\"].describe()"
   ]
  },
  {
   "cell_type": "markdown",
   "metadata": {},
   "source": [
    "Note:\n",
    "The female\n",
    "subjects whose BMI ≥ 25 kg/m2\n",
    " correspond to body fat >\n",
    "32% were classified into overweight group and BMI < 25\n",
    "kg/m2\n",
    " correspond to body fat ≤ 32% were classified into no\n",
    "overweight group. Considering BMI ≥ 25 kg/m2\n",
    " correspond\n",
    "to body fat > 23%, the male subjects were classified into\n",
    "overweight group and BMI < 25 kg/m2\n",
    " correspond to body\n",
    "fat ≤ 23% were classified into no overweight group [10, 15,\n",
    "16]. "
   ]
  },
  {
   "cell_type": "code",
   "execution_count": 58,
   "metadata": {},
   "outputs": [],
   "source": [
    "def overweight_cal(x):\n",
    "  if x['Gender'] == 'Male' and x['BMI'] >= 25 and x[\"body_fat\"] > 23: return 1\n",
    "  elif x['Gender'] == 'Male' and x['BMI'] < 25 and x[\"body_fat\"] < 23: return 0\n",
    "  elif x['Gender'] == 'Female' and x['BMI'] >= 25 and x[\"body_fat\"] > 23: return 1\n",
    "  else: return 0\n",
    "\n",
    "df['Overweight'] = df.apply(overweight_cal, axis=1)"
   ]
  },
  {
   "cell_type": "code",
   "execution_count": 59,
   "metadata": {},
   "outputs": [
    {
     "data": {
      "text/html": [
       "<div>\n",
       "<style scoped>\n",
       "    .dataframe tbody tr th:only-of-type {\n",
       "        vertical-align: middle;\n",
       "    }\n",
       "\n",
       "    .dataframe tbody tr th {\n",
       "        vertical-align: top;\n",
       "    }\n",
       "\n",
       "    .dataframe thead th {\n",
       "        text-align: right;\n",
       "    }\n",
       "</style>\n",
       "<table border=\"1\" class=\"dataframe\">\n",
       "  <thead>\n",
       "    <tr style=\"text-align: right;\">\n",
       "      <th></th>\n",
       "      <th>Gender</th>\n",
       "      <th>Age</th>\n",
       "      <th>Height</th>\n",
       "      <th>Weight</th>\n",
       "      <th>Sex</th>\n",
       "      <th>BMI</th>\n",
       "      <th>body_fat</th>\n",
       "      <th>Overweight</th>\n",
       "    </tr>\n",
       "  </thead>\n",
       "  <tbody>\n",
       "    <tr>\n",
       "      <th>0</th>\n",
       "      <td>Female</td>\n",
       "      <td>21.0</td>\n",
       "      <td>1.62</td>\n",
       "      <td>64.0</td>\n",
       "      <td>0.0</td>\n",
       "      <td>24.386526</td>\n",
       "      <td>19.847090</td>\n",
       "      <td>0</td>\n",
       "    </tr>\n",
       "    <tr>\n",
       "      <th>1</th>\n",
       "      <td>Female</td>\n",
       "      <td>21.0</td>\n",
       "      <td>1.52</td>\n",
       "      <td>56.0</td>\n",
       "      <td>0.0</td>\n",
       "      <td>24.238227</td>\n",
       "      <td>19.594656</td>\n",
       "      <td>0</td>\n",
       "    </tr>\n",
       "    <tr>\n",
       "      <th>2</th>\n",
       "      <td>Male</td>\n",
       "      <td>23.0</td>\n",
       "      <td>1.80</td>\n",
       "      <td>77.0</td>\n",
       "      <td>1.0</td>\n",
       "      <td>23.765432</td>\n",
       "      <td>31.242690</td>\n",
       "      <td>0</td>\n",
       "    </tr>\n",
       "    <tr>\n",
       "      <th>3</th>\n",
       "      <td>Male</td>\n",
       "      <td>27.0</td>\n",
       "      <td>1.80</td>\n",
       "      <td>87.0</td>\n",
       "      <td>1.0</td>\n",
       "      <td>26.851852</td>\n",
       "      <td>36.552773</td>\n",
       "      <td>1</td>\n",
       "    </tr>\n",
       "    <tr>\n",
       "      <th>4</th>\n",
       "      <td>Male</td>\n",
       "      <td>22.0</td>\n",
       "      <td>1.78</td>\n",
       "      <td>89.8</td>\n",
       "      <td>1.0</td>\n",
       "      <td>28.342381</td>\n",
       "      <td>38.137551</td>\n",
       "      <td>1</td>\n",
       "    </tr>\n",
       "    <tr>\n",
       "      <th>5</th>\n",
       "      <td>Male</td>\n",
       "      <td>29.0</td>\n",
       "      <td>1.62</td>\n",
       "      <td>53.0</td>\n",
       "      <td>1.0</td>\n",
       "      <td>20.195092</td>\n",
       "      <td>26.129653</td>\n",
       "      <td>0</td>\n",
       "    </tr>\n",
       "    <tr>\n",
       "      <th>6</th>\n",
       "      <td>Female</td>\n",
       "      <td>23.0</td>\n",
       "      <td>1.50</td>\n",
       "      <td>55.0</td>\n",
       "      <td>0.0</td>\n",
       "      <td>24.444444</td>\n",
       "      <td>20.224605</td>\n",
       "      <td>0</td>\n",
       "    </tr>\n",
       "    <tr>\n",
       "      <th>7</th>\n",
       "      <td>Male</td>\n",
       "      <td>22.0</td>\n",
       "      <td>1.64</td>\n",
       "      <td>53.0</td>\n",
       "      <td>1.0</td>\n",
       "      <td>19.705532</td>\n",
       "      <td>23.925651</td>\n",
       "      <td>0</td>\n",
       "    </tr>\n",
       "    <tr>\n",
       "      <th>8</th>\n",
       "      <td>Male</td>\n",
       "      <td>24.0</td>\n",
       "      <td>1.78</td>\n",
       "      <td>64.0</td>\n",
       "      <td>1.0</td>\n",
       "      <td>20.199470</td>\n",
       "      <td>25.213914</td>\n",
       "      <td>0</td>\n",
       "    </tr>\n",
       "    <tr>\n",
       "      <th>9</th>\n",
       "      <td>Male</td>\n",
       "      <td>22.0</td>\n",
       "      <td>1.72</td>\n",
       "      <td>68.0</td>\n",
       "      <td>1.0</td>\n",
       "      <td>22.985398</td>\n",
       "      <td>29.786157</td>\n",
       "      <td>0</td>\n",
       "    </tr>\n",
       "  </tbody>\n",
       "</table>\n",
       "</div>"
      ],
      "text/plain": [
       "   Gender   Age  Height  Weight  Sex        BMI   body_fat  Overweight\n",
       "0  Female  21.0    1.62    64.0  0.0  24.386526  19.847090           0\n",
       "1  Female  21.0    1.52    56.0  0.0  24.238227  19.594656           0\n",
       "2    Male  23.0    1.80    77.0  1.0  23.765432  31.242690           0\n",
       "3    Male  27.0    1.80    87.0  1.0  26.851852  36.552773           1\n",
       "4    Male  22.0    1.78    89.8  1.0  28.342381  38.137551           1\n",
       "5    Male  29.0    1.62    53.0  1.0  20.195092  26.129653           0\n",
       "6  Female  23.0    1.50    55.0  0.0  24.444444  20.224605           0\n",
       "7    Male  22.0    1.64    53.0  1.0  19.705532  23.925651           0\n",
       "8    Male  24.0    1.78    64.0  1.0  20.199470  25.213914           0\n",
       "9    Male  22.0    1.72    68.0  1.0  22.985398  29.786157           0"
      ]
     },
     "execution_count": 59,
     "metadata": {},
     "output_type": "execute_result"
    }
   ],
   "source": [
    "df.head(10)"
   ]
  },
  {
   "cell_type": "code",
   "execution_count": 60,
   "metadata": {},
   "outputs": [
    {
     "data": {
      "text/plain": [
       "<seaborn.axisgrid.FacetGrid at 0x1d6734ed288>"
      ]
     },
     "execution_count": 60,
     "metadata": {},
     "output_type": "execute_result"
    },
    {
     "data": {
      "image/png": "[encoded data removed]",
      "text/plain": [
       "<Figure size 425.625x360 with 1 Axes>"
      ]
     },
     "metadata": {
      "needs_background": "light"
     },
     "output_type": "display_data"
    }
   ],
   "source": [
    "import seaborn as sns\n",
    "sns.catplot(x = \"Gender\", hue = \"Overweight\", kind=\"count\",\n",
    "            palette = \"pastel\", data = df)"
   ]
  },
  {
   "cell_type": "markdown",
   "metadata": {},
   "source": [
    "Chi square test between categorical variables: overweight and gender"
   ]
  },
  {
   "cell_type": "code",
   "execution_count": 61,
   "metadata": {},
   "outputs": [
    {
     "name": "stdout",
     "output_type": "stream",
     "text": [
      "Requirement already satisfied: researchpy in i:\\ana\\lib\\site-packages (0.3.2)\n",
      "Requirement already satisfied: statsmodels in i:\\ana\\lib\\site-packages (from researchpy) (0.11.0)\n",
      "Requirement already satisfied: pandas in i:\\ana\\lib\\site-packages (from researchpy) (1.0.1)\n",
      "Requirement already satisfied: patsy in i:\\ana\\lib\\site-packages (from researchpy) (0.5.1)\n",
      "Requirement already satisfied: scipy in i:\\ana\\lib\\site-packages (from researchpy) (1.4.1)\n",
      "Requirement already satisfied: numpy in i:\\ana\\lib\\site-packages (from researchpy) (1.18.1)\n",
      "Requirement already satisfied: python-dateutil>=2.6.1 in i:\\ana\\lib\\site-packages (from pandas->researchpy) (2.8.1)\n",
      "Requirement already satisfied: pytz>=2017.2 in i:\\ana\\lib\\site-packages (from pandas->researchpy) (2019.3)\n",
      "Requirement already satisfied: six in i:\\ana\\lib\\site-packages (from patsy->researchpy) (1.14.0)\n",
      "Note: you may need to restart the kernel to use updated packages.\n"
     ]
    }
   ],
   "source": [
    "pip install researchpy"
   ]
  },
  {
   "cell_type": "code",
   "execution_count": 62,
   "metadata": {},
   "outputs": [
    {
     "data": {
      "text/html": [
       "<div>\n",
       "<style scoped>\n",
       "    .dataframe tbody tr th:only-of-type {\n",
       "        vertical-align: middle;\n",
       "    }\n",
       "\n",
       "    .dataframe tbody tr th {\n",
       "        vertical-align: top;\n",
       "    }\n",
       "\n",
       "    .dataframe thead th {\n",
       "        text-align: right;\n",
       "    }\n",
       "</style>\n",
       "<table border=\"1\" class=\"dataframe\">\n",
       "  <thead>\n",
       "    <tr style=\"text-align: right;\">\n",
       "      <th></th>\n",
       "      <th>Variable</th>\n",
       "      <th>Outcome</th>\n",
       "      <th>Count</th>\n",
       "      <th>Percent</th>\n",
       "    </tr>\n",
       "  </thead>\n",
       "  <tbody>\n",
       "    <tr>\n",
       "      <th>0</th>\n",
       "      <td>Gender</td>\n",
       "      <td>Male</td>\n",
       "      <td>1068</td>\n",
       "      <td>50.59</td>\n",
       "    </tr>\n",
       "    <tr>\n",
       "      <th>1</th>\n",
       "      <td></td>\n",
       "      <td>Female</td>\n",
       "      <td>1043</td>\n",
       "      <td>49.41</td>\n",
       "    </tr>\n",
       "    <tr>\n",
       "      <th>2</th>\n",
       "      <td>Overweight</td>\n",
       "      <td>1</td>\n",
       "      <td>1464</td>\n",
       "      <td>69.35</td>\n",
       "    </tr>\n",
       "    <tr>\n",
       "      <th>3</th>\n",
       "      <td></td>\n",
       "      <td>0</td>\n",
       "      <td>647</td>\n",
       "      <td>30.65</td>\n",
       "    </tr>\n",
       "  </tbody>\n",
       "</table>\n",
       "</div>"
      ],
      "text/plain": [
       "     Variable Outcome  Count  Percent\n",
       "0      Gender    Male   1068    50.59\n",
       "1              Female   1043    49.41\n",
       "2  Overweight       1   1464    69.35\n",
       "3                   0    647    30.65"
      ]
     },
     "execution_count": 62,
     "metadata": {},
     "output_type": "execute_result"
    }
   ],
   "source": [
    "import researchpy as rp\n",
    "import scipy.stats as stats\n",
    "rp.summary_cat(df[[\"Gender\", \"Overweight\"]])"
   ]
  },
  {
   "cell_type": "code",
   "execution_count": 63,
   "metadata": {},
   "outputs": [
    {
     "data": {
      "text/html": [
       "<div>\n",
       "<style scoped>\n",
       "    .dataframe tbody tr th:only-of-type {\n",
       "        vertical-align: middle;\n",
       "    }\n",
       "\n",
       "    .dataframe tbody tr th {\n",
       "        vertical-align: top;\n",
       "    }\n",
       "\n",
       "    .dataframe thead th {\n",
       "        text-align: right;\n",
       "    }\n",
       "</style>\n",
       "<table border=\"1\" class=\"dataframe\">\n",
       "  <thead>\n",
       "    <tr style=\"text-align: right;\">\n",
       "      <th>Overweight</th>\n",
       "      <th>0</th>\n",
       "      <th>1</th>\n",
       "    </tr>\n",
       "    <tr>\n",
       "      <th>Gender</th>\n",
       "      <th></th>\n",
       "      <th></th>\n",
       "    </tr>\n",
       "  </thead>\n",
       "  <tbody>\n",
       "    <tr>\n",
       "      <th>Female</th>\n",
       "      <td>401</td>\n",
       "      <td>642</td>\n",
       "    </tr>\n",
       "    <tr>\n",
       "      <th>Male</th>\n",
       "      <td>246</td>\n",
       "      <td>822</td>\n",
       "    </tr>\n",
       "  </tbody>\n",
       "</table>\n",
       "</div>"
      ],
      "text/plain": [
       "Overweight    0    1\n",
       "Gender              \n",
       "Female      401  642\n",
       "Male        246  822"
      ]
     },
     "execution_count": 63,
     "metadata": {},
     "output_type": "execute_result"
    }
   ],
   "source": [
    "crosstab = pd.crosstab(df[\"Gender\"], df[\"Overweight\"])\n",
    "\n",
    "crosstab"
   ]
  },
  {
   "cell_type": "markdown",
   "metadata": {},
   "source": [
    "The first value is the χ2 test static, the second value is the p-value, and the third number is the degrees of freedom. An array is also returned which contains the expected cell counts."
   ]
  },
  {
   "cell_type": "code",
   "execution_count": 64,
   "metadata": {},
   "outputs": [
    {
     "data": {
      "text/plain": [
       "(58.25336309755055,\n",
       " 2.304427005959004e-14,\n",
       " 1,\n",
       " array([[319.66887731, 723.33112269],\n",
       "        [327.33112269, 740.66887731]]))"
      ]
     },
     "execution_count": 64,
     "metadata": {},
     "output_type": "execute_result"
    }
   ],
   "source": [
    "stats.chi2_contingency(crosstab)"
   ]
  },
  {
   "cell_type": "markdown",
   "metadata": {},
   "source": [
    "There is a relationship between Overweight and the Gender group, χ2(1) = 58.21, p < 0.0001."
   ]
  },
  {
   "cell_type": "code",
   "execution_count": 65,
   "metadata": {},
   "outputs": [
    {
     "data": {
      "text/html": [
       "<div>\n",
       "<style scoped>\n",
       "    .dataframe tbody tr th:only-of-type {\n",
       "        vertical-align: middle;\n",
       "    }\n",
       "\n",
       "    .dataframe tbody tr th {\n",
       "        vertical-align: top;\n",
       "    }\n",
       "\n",
       "    .dataframe thead tr th {\n",
       "        text-align: left;\n",
       "    }\n",
       "\n",
       "    .dataframe thead tr:last-of-type th {\n",
       "        text-align: right;\n",
       "    }\n",
       "</style>\n",
       "<table border=\"1\" class=\"dataframe\">\n",
       "  <thead>\n",
       "    <tr>\n",
       "      <th></th>\n",
       "      <th colspan=\"3\" halign=\"left\">Overweight</th>\n",
       "    </tr>\n",
       "    <tr>\n",
       "      <th>Overweight</th>\n",
       "      <th>0</th>\n",
       "      <th>1</th>\n",
       "      <th>All</th>\n",
       "    </tr>\n",
       "    <tr>\n",
       "      <th>Gender</th>\n",
       "      <th></th>\n",
       "      <th></th>\n",
       "      <th></th>\n",
       "    </tr>\n",
       "  </thead>\n",
       "  <tbody>\n",
       "    <tr>\n",
       "      <th>Female</th>\n",
       "      <td>19.00</td>\n",
       "      <td>30.41</td>\n",
       "      <td>49.41</td>\n",
       "    </tr>\n",
       "    <tr>\n",
       "      <th>Male</th>\n",
       "      <td>11.65</td>\n",
       "      <td>38.94</td>\n",
       "      <td>50.59</td>\n",
       "    </tr>\n",
       "    <tr>\n",
       "      <th>All</th>\n",
       "      <td>30.65</td>\n",
       "      <td>69.35</td>\n",
       "      <td>100.00</td>\n",
       "    </tr>\n",
       "  </tbody>\n",
       "</table>\n",
       "</div>"
      ],
      "text/plain": [
       "           Overweight               \n",
       "Overweight          0      1     All\n",
       "Gender                              \n",
       "Female          19.00  30.41   49.41\n",
       "Male            11.65  38.94   50.59\n",
       "All             30.65  69.35  100.00"
      ]
     },
     "execution_count": 65,
     "metadata": {},
     "output_type": "execute_result"
    }
   ],
   "source": [
    "crosstab, test_results, expected = rp.crosstab(df[\"Gender\"], df[\"Overweight\"],\n",
    "                                               test= \"chi-square\",\n",
    "                                               expected_freqs= True,\n",
    "                                               prop= \"cell\")\n",
    "\n",
    "crosstab"
   ]
  },
  {
   "cell_type": "code",
   "execution_count": 66,
   "metadata": {},
   "outputs": [
    {
     "data": {
      "text/html": [
       "<div>\n",
       "<style scoped>\n",
       "    .dataframe tbody tr th:only-of-type {\n",
       "        vertical-align: middle;\n",
       "    }\n",
       "\n",
       "    .dataframe tbody tr th {\n",
       "        vertical-align: top;\n",
       "    }\n",
       "\n",
       "    .dataframe thead th {\n",
       "        text-align: right;\n",
       "    }\n",
       "</style>\n",
       "<table border=\"1\" class=\"dataframe\">\n",
       "  <thead>\n",
       "    <tr style=\"text-align: right;\">\n",
       "      <th></th>\n",
       "      <th>Chi-square test</th>\n",
       "      <th>results</th>\n",
       "    </tr>\n",
       "  </thead>\n",
       "  <tbody>\n",
       "    <tr>\n",
       "      <th>0</th>\n",
       "      <td>Pearson Chi-square ( 1.0) =</td>\n",
       "      <td>58.9763</td>\n",
       "    </tr>\n",
       "    <tr>\n",
       "      <th>1</th>\n",
       "      <td>p-value =</td>\n",
       "      <td>0.0000</td>\n",
       "    </tr>\n",
       "    <tr>\n",
       "      <th>2</th>\n",
       "      <td>Cramer's phi =</td>\n",
       "      <td>0.1671</td>\n",
       "    </tr>\n",
       "  </tbody>\n",
       "</table>\n",
       "</div>"
      ],
      "text/plain": [
       "                Chi-square test  results\n",
       "0  Pearson Chi-square ( 1.0) =   58.9763\n",
       "1                    p-value =    0.0000\n",
       "2               Cramer's phi =    0.1671"
      ]
     },
     "execution_count": 66,
     "metadata": {},
     "output_type": "execute_result"
    }
   ],
   "source": [
    "test_results"
   ]
  },
  {
   "cell_type": "code",
   "execution_count": 67,
   "metadata": {},
   "outputs": [
    {
     "data": {
      "text/html": [
       "<div>\n",
       "<style scoped>\n",
       "    .dataframe tbody tr th:only-of-type {\n",
       "        vertical-align: middle;\n",
       "    }\n",
       "\n",
       "    .dataframe tbody tr th {\n",
       "        vertical-align: top;\n",
       "    }\n",
       "\n",
       "    .dataframe thead tr th {\n",
       "        text-align: left;\n",
       "    }\n",
       "\n",
       "    .dataframe thead tr:last-of-type th {\n",
       "        text-align: right;\n",
       "    }\n",
       "</style>\n",
       "<table border=\"1\" class=\"dataframe\">\n",
       "  <thead>\n",
       "    <tr>\n",
       "      <th></th>\n",
       "      <th colspan=\"2\" halign=\"left\">Overweight</th>\n",
       "    </tr>\n",
       "    <tr>\n",
       "      <th>Overweight</th>\n",
       "      <th>0</th>\n",
       "      <th>1</th>\n",
       "    </tr>\n",
       "    <tr>\n",
       "      <th>Gender</th>\n",
       "      <th></th>\n",
       "      <th></th>\n",
       "    </tr>\n",
       "  </thead>\n",
       "  <tbody>\n",
       "    <tr>\n",
       "      <th>Female</th>\n",
       "      <td>319.668877</td>\n",
       "      <td>723.331123</td>\n",
       "    </tr>\n",
       "    <tr>\n",
       "      <th>Male</th>\n",
       "      <td>327.331123</td>\n",
       "      <td>740.668877</td>\n",
       "    </tr>\n",
       "  </tbody>\n",
       "</table>\n",
       "</div>"
      ],
      "text/plain": [
       "            Overweight            \n",
       "Overweight           0           1\n",
       "Gender                            \n",
       "Female      319.668877  723.331123\n",
       "Male        327.331123  740.668877"
      ]
     },
     "execution_count": 67,
     "metadata": {},
     "output_type": "execute_result"
    }
   ],
   "source": [
    "expected"
   ]
  },
  {
   "cell_type": "markdown",
   "metadata": {},
   "source": [
    "ASSUMPTION CHECK\n",
    "Checking the assumptions for the χ2 test of independence is easy. Let's recall what they are:\n",
    "\n",
    "The two samples are independent\n",
    "\n",
    "The variables were collected independently of each other, i.e. the answer from one variable was not dependent on the answer of the other.\n",
    "\n",
    "No expected cell count is = 0\n",
    "No more than 20% of the cells have and expected cell count < 5.\n",
    "\n",
    "Cramer's phi value > 0.15, hence the relationship is strong."
   ]
  },
  {
   "cell_type": "code",
   "execution_count": 68,
   "metadata": {},
   "outputs": [],
   "source": [
    "grouped_df = df.groupby([\"Overweight\"]).count()\n",
    "grouped_df[\"percent_overweight\"] = (grouped_df[\"Gender\"] * 100)/ grouped_df['Gender'].sum()"
   ]
  },
  {
   "cell_type": "markdown",
   "metadata": {},
   "source": [
    "Finding the overweight percent in the whole sample"
   ]
  },
  {
   "cell_type": "code",
   "execution_count": 69,
   "metadata": {},
   "outputs": [
    {
     "data": {
      "text/html": [
       "<div>\n",
       "<style scoped>\n",
       "    .dataframe tbody tr th:only-of-type {\n",
       "        vertical-align: middle;\n",
       "    }\n",
       "\n",
       "    .dataframe tbody tr th {\n",
       "        vertical-align: top;\n",
       "    }\n",
       "\n",
       "    .dataframe thead th {\n",
       "        text-align: right;\n",
       "    }\n",
       "</style>\n",
       "<table border=\"1\" class=\"dataframe\">\n",
       "  <thead>\n",
       "    <tr style=\"text-align: right;\">\n",
       "      <th></th>\n",
       "      <th>Gender</th>\n",
       "      <th>Age</th>\n",
       "      <th>Height</th>\n",
       "      <th>Weight</th>\n",
       "      <th>Sex</th>\n",
       "      <th>BMI</th>\n",
       "      <th>body_fat</th>\n",
       "      <th>percent_overweight</th>\n",
       "    </tr>\n",
       "    <tr>\n",
       "      <th>Overweight</th>\n",
       "      <th></th>\n",
       "      <th></th>\n",
       "      <th></th>\n",
       "      <th></th>\n",
       "      <th></th>\n",
       "      <th></th>\n",
       "      <th></th>\n",
       "      <th></th>\n",
       "    </tr>\n",
       "  </thead>\n",
       "  <tbody>\n",
       "    <tr>\n",
       "      <th>0</th>\n",
       "      <td>647</td>\n",
       "      <td>647</td>\n",
       "      <td>647</td>\n",
       "      <td>647</td>\n",
       "      <td>647</td>\n",
       "      <td>647</td>\n",
       "      <td>647</td>\n",
       "      <td>30.648982</td>\n",
       "    </tr>\n",
       "    <tr>\n",
       "      <th>1</th>\n",
       "      <td>1464</td>\n",
       "      <td>1464</td>\n",
       "      <td>1464</td>\n",
       "      <td>1464</td>\n",
       "      <td>1464</td>\n",
       "      <td>1464</td>\n",
       "      <td>1464</td>\n",
       "      <td>69.351018</td>\n",
       "    </tr>\n",
       "  </tbody>\n",
       "</table>\n",
       "</div>"
      ],
      "text/plain": [
       "            Gender   Age  Height  Weight   Sex   BMI  body_fat  \\\n",
       "Overweight                                                       \n",
       "0              647   647     647     647   647   647       647   \n",
       "1             1464  1464    1464    1464  1464  1464      1464   \n",
       "\n",
       "            percent_overweight  \n",
       "Overweight                      \n",
       "0                    30.648982  \n",
       "1                    69.351018  "
      ]
     },
     "execution_count": 69,
     "metadata": {},
     "output_type": "execute_result"
    }
   ],
   "source": [
    "grouped_df"
   ]
  },
  {
   "cell_type": "markdown",
   "metadata": {},
   "source": [
    "Pearson's correlation coefficient was used to determine the\n",
    "relationship between BMI and BF% with the continuous\n",
    "explanatory variables"
   ]
  },
  {
   "cell_type": "code",
   "execution_count": 70,
   "metadata": {},
   "outputs": [
    {
     "data": {
      "text/html": [
       "<style  type=\"text/css\" >\n",
       "    #T_ae5ce570_7819_11ec_88bc_c49ded10faderow0_col0 {\n",
       "            background-color:  #b40426;\n",
       "            color:  #f1f1f1;\n",
       "        }    #T_ae5ce570_7819_11ec_88bc_c49ded10faderow0_col1 {\n",
       "            background-color:  #3b4cc0;\n",
       "            color:  #f1f1f1;\n",
       "        }    #T_ae5ce570_7819_11ec_88bc_c49ded10faderow0_col2 {\n",
       "            background-color:  #4961d2;\n",
       "            color:  #f1f1f1;\n",
       "        }    #T_ae5ce570_7819_11ec_88bc_c49ded10faderow0_col3 {\n",
       "            background-color:  #5875e1;\n",
       "            color:  #000000;\n",
       "        }    #T_ae5ce570_7819_11ec_88bc_c49ded10faderow0_col4 {\n",
       "            background-color:  #98b9ff;\n",
       "            color:  #000000;\n",
       "        }    #T_ae5ce570_7819_11ec_88bc_c49ded10faderow0_col5 {\n",
       "            background-color:  #3b4cc0;\n",
       "            color:  #f1f1f1;\n",
       "        }    #T_ae5ce570_7819_11ec_88bc_c49ded10faderow0_col6 {\n",
       "            background-color:  #8caffe;\n",
       "            color:  #000000;\n",
       "        }    #T_ae5ce570_7819_11ec_88bc_c49ded10faderow1_col0 {\n",
       "            background-color:  #3b4cc0;\n",
       "            color:  #f1f1f1;\n",
       "        }    #T_ae5ce570_7819_11ec_88bc_c49ded10faderow1_col1 {\n",
       "            background-color:  #b40426;\n",
       "            color:  #f1f1f1;\n",
       "        }    #T_ae5ce570_7819_11ec_88bc_c49ded10faderow1_col2 {\n",
       "            background-color:  #b3cdfb;\n",
       "            color:  #000000;\n",
       "        }    #T_ae5ce570_7819_11ec_88bc_c49ded10faderow1_col3 {\n",
       "            background-color:  #f5c0a7;\n",
       "            color:  #000000;\n",
       "        }    #T_ae5ce570_7819_11ec_88bc_c49ded10faderow1_col4 {\n",
       "            background-color:  #7295f4;\n",
       "            color:  #000000;\n",
       "        }    #T_ae5ce570_7819_11ec_88bc_c49ded10faderow1_col5 {\n",
       "            background-color:  #5d7ce6;\n",
       "            color:  #000000;\n",
       "        }    #T_ae5ce570_7819_11ec_88bc_c49ded10faderow1_col6 {\n",
       "            background-color:  #3b4cc0;\n",
       "            color:  #f1f1f1;\n",
       "        }    #T_ae5ce570_7819_11ec_88bc_c49ded10faderow2_col0 {\n",
       "            background-color:  #84a7fc;\n",
       "            color:  #000000;\n",
       "        }    #T_ae5ce570_7819_11ec_88bc_c49ded10faderow2_col1 {\n",
       "            background-color:  #d7dce3;\n",
       "            color:  #000000;\n",
       "        }    #T_ae5ce570_7819_11ec_88bc_c49ded10faderow2_col2 {\n",
       "            background-color:  #b40426;\n",
       "            color:  #f1f1f1;\n",
       "        }    #T_ae5ce570_7819_11ec_88bc_c49ded10faderow2_col3 {\n",
       "            background-color:  #7da0f9;\n",
       "            color:  #000000;\n",
       "        }    #T_ae5ce570_7819_11ec_88bc_c49ded10faderow2_col4 {\n",
       "            background-color:  #ca3b37;\n",
       "            color:  #f1f1f1;\n",
       "        }    #T_ae5ce570_7819_11ec_88bc_c49ded10faderow2_col5 {\n",
       "            background-color:  #e36b54;\n",
       "            color:  #000000;\n",
       "        }    #T_ae5ce570_7819_11ec_88bc_c49ded10faderow2_col6 {\n",
       "            background-color:  #f7b599;\n",
       "            color:  #000000;\n",
       "        }    #T_ae5ce570_7819_11ec_88bc_c49ded10faderow3_col0 {\n",
       "            background-color:  #506bda;\n",
       "            color:  #000000;\n",
       "        }    #T_ae5ce570_7819_11ec_88bc_c49ded10faderow3_col1 {\n",
       "            background-color:  #f5c4ac;\n",
       "            color:  #000000;\n",
       "        }    #T_ae5ce570_7819_11ec_88bc_c49ded10faderow3_col2 {\n",
       "            background-color:  #3b4cc0;\n",
       "            color:  #f1f1f1;\n",
       "        }    #T_ae5ce570_7819_11ec_88bc_c49ded10faderow3_col3 {\n",
       "            background-color:  #b40426;\n",
       "            color:  #f1f1f1;\n",
       "        }    #T_ae5ce570_7819_11ec_88bc_c49ded10faderow3_col4 {\n",
       "            background-color:  #3b4cc0;\n",
       "            color:  #f1f1f1;\n",
       "        }    #T_ae5ce570_7819_11ec_88bc_c49ded10faderow3_col5 {\n",
       "            background-color:  #7396f5;\n",
       "            color:  #000000;\n",
       "        }    #T_ae5ce570_7819_11ec_88bc_c49ded10faderow3_col6 {\n",
       "            background-color:  #3c4ec2;\n",
       "            color:  #f1f1f1;\n",
       "        }    #T_ae5ce570_7819_11ec_88bc_c49ded10faderow4_col0 {\n",
       "            background-color:  #92b4fe;\n",
       "            color:  #000000;\n",
       "        }    #T_ae5ce570_7819_11ec_88bc_c49ded10faderow4_col1 {\n",
       "            background-color:  #6b8df0;\n",
       "            color:  #000000;\n",
       "        }    #T_ae5ce570_7819_11ec_88bc_c49ded10faderow4_col2 {\n",
       "            background-color:  #cf453c;\n",
       "            color:  #f1f1f1;\n",
       "        }    #T_ae5ce570_7819_11ec_88bc_c49ded10faderow4_col3 {\n",
       "            background-color:  #3b4cc0;\n",
       "            color:  #f1f1f1;\n",
       "        }    #T_ae5ce570_7819_11ec_88bc_c49ded10faderow4_col4 {\n",
       "            background-color:  #b40426;\n",
       "            color:  #f1f1f1;\n",
       "        }    #T_ae5ce570_7819_11ec_88bc_c49ded10faderow4_col5 {\n",
       "            background-color:  #ee8468;\n",
       "            color:  #000000;\n",
       "        }    #T_ae5ce570_7819_11ec_88bc_c49ded10faderow4_col6 {\n",
       "            background-color:  #f7a889;\n",
       "            color:  #000000;\n",
       "        }    #T_ae5ce570_7819_11ec_88bc_c49ded10faderow5_col0 {\n",
       "            background-color:  #aac7fd;\n",
       "            color:  #000000;\n",
       "        }    #T_ae5ce570_7819_11ec_88bc_c49ded10faderow5_col1 {\n",
       "            background-color:  #c3d5f4;\n",
       "            color:  #000000;\n",
       "        }    #T_ae5ce570_7819_11ec_88bc_c49ded10faderow5_col2 {\n",
       "            background-color:  #dc5d4a;\n",
       "            color:  #000000;\n",
       "        }    #T_ae5ce570_7819_11ec_88bc_c49ded10faderow5_col3 {\n",
       "            background-color:  #d4dbe6;\n",
       "            color:  #000000;\n",
       "        }    #T_ae5ce570_7819_11ec_88bc_c49ded10faderow5_col4 {\n",
       "            background-color:  #df634e;\n",
       "            color:  #000000;\n",
       "        }    #T_ae5ce570_7819_11ec_88bc_c49ded10faderow5_col5 {\n",
       "            background-color:  #b40426;\n",
       "            color:  #f1f1f1;\n",
       "        }    #T_ae5ce570_7819_11ec_88bc_c49ded10faderow5_col6 {\n",
       "            background-color:  #f29274;\n",
       "            color:  #000000;\n",
       "        }    #T_ae5ce570_7819_11ec_88bc_c49ded10faderow6_col0 {\n",
       "            background-color:  #bbd1f8;\n",
       "            color:  #000000;\n",
       "        }    #T_ae5ce570_7819_11ec_88bc_c49ded10faderow6_col1 {\n",
       "            background-color:  #7597f6;\n",
       "            color:  #000000;\n",
       "        }    #T_ae5ce570_7819_11ec_88bc_c49ded10faderow6_col2 {\n",
       "            background-color:  #f7b599;\n",
       "            color:  #000000;\n",
       "        }    #T_ae5ce570_7819_11ec_88bc_c49ded10faderow6_col3 {\n",
       "            background-color:  #7ea1fa;\n",
       "            color:  #000000;\n",
       "        }    #T_ae5ce570_7819_11ec_88bc_c49ded10faderow6_col4 {\n",
       "            background-color:  #f29072;\n",
       "            color:  #000000;\n",
       "        }    #T_ae5ce570_7819_11ec_88bc_c49ded10faderow6_col5 {\n",
       "            background-color:  #f7a889;\n",
       "            color:  #000000;\n",
       "        }    #T_ae5ce570_7819_11ec_88bc_c49ded10faderow6_col6 {\n",
       "            background-color:  #b40426;\n",
       "            color:  #f1f1f1;\n",
       "        }</style><table id=\"T_ae5ce570_7819_11ec_88bc_c49ded10fade\" ><thead>    <tr>        <th class=\"blank level0\" ></th>        <th class=\"col_heading level0 col0\" >Age</th>        <th class=\"col_heading level0 col1\" >Height</th>        <th class=\"col_heading level0 col2\" >Weight</th>        <th class=\"col_heading level0 col3\" >Sex</th>        <th class=\"col_heading level0 col4\" >BMI</th>        <th class=\"col_heading level0 col5\" >body_fat</th>        <th class=\"col_heading level0 col6\" >Overweight</th>    </tr></thead><tbody>\n",
       "                <tr>\n",
       "                        <th id=\"T_ae5ce570_7819_11ec_88bc_c49ded10fadelevel0_row0\" class=\"row_heading level0 row0\" >Age</th>\n",
       "                        <td id=\"T_ae5ce570_7819_11ec_88bc_c49ded10faderow0_col0\" class=\"data row0 col0\" >1.000000</td>\n",
       "                        <td id=\"T_ae5ce570_7819_11ec_88bc_c49ded10faderow0_col1\" class=\"data row0 col1\" >-0.025958</td>\n",
       "                        <td id=\"T_ae5ce570_7819_11ec_88bc_c49ded10faderow0_col2\" class=\"data row0 col2\" >0.202560</td>\n",
       "                        <td id=\"T_ae5ce570_7819_11ec_88bc_c49ded10faderow0_col3\" class=\"data row0 col3\" >0.048394</td>\n",
       "                        <td id=\"T_ae5ce570_7819_11ec_88bc_c49ded10faderow0_col4\" class=\"data row0 col4\" >0.244163</td>\n",
       "                        <td id=\"T_ae5ce570_7819_11ec_88bc_c49ded10faderow0_col5\" class=\"data row0 col5\" >0.316694</td>\n",
       "                        <td id=\"T_ae5ce570_7819_11ec_88bc_c49ded10faderow0_col6\" class=\"data row0 col6\" >0.370772</td>\n",
       "            </tr>\n",
       "            <tr>\n",
       "                        <th id=\"T_ae5ce570_7819_11ec_88bc_c49ded10fadelevel0_row1\" class=\"row_heading level0 row1\" >Height</th>\n",
       "                        <td id=\"T_ae5ce570_7819_11ec_88bc_c49ded10faderow1_col0\" class=\"data row1 col0\" >-0.025958</td>\n",
       "                        <td id=\"T_ae5ce570_7819_11ec_88bc_c49ded10faderow1_col1\" class=\"data row1 col1\" >1.000000</td>\n",
       "                        <td id=\"T_ae5ce570_7819_11ec_88bc_c49ded10faderow1_col2\" class=\"data row1 col2\" >0.463136</td>\n",
       "                        <td id=\"T_ae5ce570_7819_11ec_88bc_c49ded10faderow1_col3\" class=\"data row1 col3\" >0.618466</td>\n",
       "                        <td id=\"T_ae5ce570_7819_11ec_88bc_c49ded10faderow1_col4\" class=\"data row1 col4\" >0.131785</td>\n",
       "                        <td id=\"T_ae5ce570_7819_11ec_88bc_c49ded10faderow1_col5\" class=\"data row1 col5\" >0.393595</td>\n",
       "                        <td id=\"T_ae5ce570_7819_11ec_88bc_c49ded10faderow1_col6\" class=\"data row1 col6\" >0.161323</td>\n",
       "            </tr>\n",
       "            <tr>\n",
       "                        <th id=\"T_ae5ce570_7819_11ec_88bc_c49ded10fadelevel0_row2\" class=\"row_heading level0 row2\" >Weight</th>\n",
       "                        <td id=\"T_ae5ce570_7819_11ec_88bc_c49ded10faderow2_col0\" class=\"data row2 col0\" >0.202560</td>\n",
       "                        <td id=\"T_ae5ce570_7819_11ec_88bc_c49ded10faderow2_col1\" class=\"data row2 col1\" >0.463136</td>\n",
       "                        <td id=\"T_ae5ce570_7819_11ec_88bc_c49ded10faderow2_col2\" class=\"data row2 col2\" >1.000000</td>\n",
       "                        <td id=\"T_ae5ce570_7819_11ec_88bc_c49ded10faderow2_col3\" class=\"data row2 col3\" >0.161668</td>\n",
       "                        <td id=\"T_ae5ce570_7819_11ec_88bc_c49ded10faderow2_col4\" class=\"data row2 col4\" >0.934806</td>\n",
       "                        <td id=\"T_ae5ce570_7819_11ec_88bc_c49ded10faderow2_col5\" class=\"data row2 col5\" >0.899336</td>\n",
       "                        <td id=\"T_ae5ce570_7819_11ec_88bc_c49ded10faderow2_col6\" class=\"data row2 col6\" >0.725173</td>\n",
       "            </tr>\n",
       "            <tr>\n",
       "                        <th id=\"T_ae5ce570_7819_11ec_88bc_c49ded10fadelevel0_row3\" class=\"row_heading level0 row3\" >Sex</th>\n",
       "                        <td id=\"T_ae5ce570_7819_11ec_88bc_c49ded10faderow3_col0\" class=\"data row3 col0\" >0.048394</td>\n",
       "                        <td id=\"T_ae5ce570_7819_11ec_88bc_c49ded10faderow3_col1\" class=\"data row3 col1\" >0.618466</td>\n",
       "                        <td id=\"T_ae5ce570_7819_11ec_88bc_c49ded10faderow3_col2\" class=\"data row3 col2\" >0.161668</td>\n",
       "                        <td id=\"T_ae5ce570_7819_11ec_88bc_c49ded10faderow3_col3\" class=\"data row3 col3\" >1.000000</td>\n",
       "                        <td id=\"T_ae5ce570_7819_11ec_88bc_c49ded10faderow3_col4\" class=\"data row3 col4\" >-0.053035</td>\n",
       "                        <td id=\"T_ae5ce570_7819_11ec_88bc_c49ded10faderow3_col5\" class=\"data row3 col5\" >0.439351</td>\n",
       "                        <td id=\"T_ae5ce570_7819_11ec_88bc_c49ded10faderow3_col6\" class=\"data row3 col6\" >0.167145</td>\n",
       "            </tr>\n",
       "            <tr>\n",
       "                        <th id=\"T_ae5ce570_7819_11ec_88bc_c49ded10fadelevel0_row4\" class=\"row_heading level0 row4\" >BMI</th>\n",
       "                        <td id=\"T_ae5ce570_7819_11ec_88bc_c49ded10faderow4_col0\" class=\"data row4 col0\" >0.244163</td>\n",
       "                        <td id=\"T_ae5ce570_7819_11ec_88bc_c49ded10faderow4_col1\" class=\"data row4 col1\" >0.131785</td>\n",
       "                        <td id=\"T_ae5ce570_7819_11ec_88bc_c49ded10faderow4_col2\" class=\"data row4 col2\" >0.934806</td>\n",
       "                        <td id=\"T_ae5ce570_7819_11ec_88bc_c49ded10faderow4_col3\" class=\"data row4 col3\" >-0.053035</td>\n",
       "                        <td id=\"T_ae5ce570_7819_11ec_88bc_c49ded10faderow4_col4\" class=\"data row4 col4\" >1.000000</td>\n",
       "                        <td id=\"T_ae5ce570_7819_11ec_88bc_c49ded10faderow4_col5\" class=\"data row4 col5\" >0.863272</td>\n",
       "                        <td id=\"T_ae5ce570_7819_11ec_88bc_c49ded10faderow4_col6\" class=\"data row4 col6\" >0.759360</td>\n",
       "            </tr>\n",
       "            <tr>\n",
       "                        <th id=\"T_ae5ce570_7819_11ec_88bc_c49ded10fadelevel0_row5\" class=\"row_heading level0 row5\" >body_fat</th>\n",
       "                        <td id=\"T_ae5ce570_7819_11ec_88bc_c49ded10faderow5_col0\" class=\"data row5 col0\" >0.316694</td>\n",
       "                        <td id=\"T_ae5ce570_7819_11ec_88bc_c49ded10faderow5_col1\" class=\"data row5 col1\" >0.393595</td>\n",
       "                        <td id=\"T_ae5ce570_7819_11ec_88bc_c49ded10faderow5_col2\" class=\"data row5 col2\" >0.899336</td>\n",
       "                        <td id=\"T_ae5ce570_7819_11ec_88bc_c49ded10faderow5_col3\" class=\"data row5 col3\" >0.439351</td>\n",
       "                        <td id=\"T_ae5ce570_7819_11ec_88bc_c49ded10faderow5_col4\" class=\"data row5 col4\" >0.863272</td>\n",
       "                        <td id=\"T_ae5ce570_7819_11ec_88bc_c49ded10faderow5_col5\" class=\"data row5 col5\" >1.000000</td>\n",
       "                        <td id=\"T_ae5ce570_7819_11ec_88bc_c49ded10faderow5_col6\" class=\"data row5 col6\" >0.805089</td>\n",
       "            </tr>\n",
       "            <tr>\n",
       "                        <th id=\"T_ae5ce570_7819_11ec_88bc_c49ded10fadelevel0_row6\" class=\"row_heading level0 row6\" >Overweight</th>\n",
       "                        <td id=\"T_ae5ce570_7819_11ec_88bc_c49ded10faderow6_col0\" class=\"data row6 col0\" >0.370772</td>\n",
       "                        <td id=\"T_ae5ce570_7819_11ec_88bc_c49ded10faderow6_col1\" class=\"data row6 col1\" >0.161323</td>\n",
       "                        <td id=\"T_ae5ce570_7819_11ec_88bc_c49ded10faderow6_col2\" class=\"data row6 col2\" >0.725173</td>\n",
       "                        <td id=\"T_ae5ce570_7819_11ec_88bc_c49ded10faderow6_col3\" class=\"data row6 col3\" >0.167145</td>\n",
       "                        <td id=\"T_ae5ce570_7819_11ec_88bc_c49ded10faderow6_col4\" class=\"data row6 col4\" >0.759360</td>\n",
       "                        <td id=\"T_ae5ce570_7819_11ec_88bc_c49ded10faderow6_col5\" class=\"data row6 col5\" >0.805089</td>\n",
       "                        <td id=\"T_ae5ce570_7819_11ec_88bc_c49ded10faderow6_col6\" class=\"data row6 col6\" >1.000000</td>\n",
       "            </tr>\n",
       "    </tbody></table>"
      ],
      "text/plain": [
       "<pandas.io.formats.style.Styler at 0x1d6735f0c88>"
      ]
     },
     "execution_count": 70,
     "metadata": {},
     "output_type": "execute_result"
    }
   ],
   "source": [
    "corr = df.corr(method = 'pearson')\n",
    "corr.style.background_gradient(cmap = 'coolwarm')"
   ]
  },
  {
   "cell_type": "code",
   "execution_count": 71,
   "metadata": {},
   "outputs": [
    {
     "data": {
      "text/plain": [
       "array([[<matplotlib.axes._subplots.AxesSubplot object at 0x000001D673604508>,\n",
       "        <matplotlib.axes._subplots.AxesSubplot object at 0x000001D6735B2188>,\n",
       "        <matplotlib.axes._subplots.AxesSubplot object at 0x000001D67361E808>],\n",
       "       [<matplotlib.axes._subplots.AxesSubplot object at 0x000001D673654D48>,\n",
       "        <matplotlib.axes._subplots.AxesSubplot object at 0x000001D67368D908>,\n",
       "        <matplotlib.axes._subplots.AxesSubplot object at 0x000001D6736C5988>],\n",
       "       [<matplotlib.axes._subplots.AxesSubplot object at 0x000001D6736FEA88>,\n",
       "        <matplotlib.axes._subplots.AxesSubplot object at 0x000001D673735C08>,\n",
       "        <matplotlib.axes._subplots.AxesSubplot object at 0x000001D673741808>]],\n",
       "      dtype=object)"
      ]
     },
     "execution_count": 71,
     "metadata": {},
     "output_type": "execute_result"
    },
    {
     "data": {
      "image/png": "[encoded data removed]",
      "text/plain": [
       "<Figure size 432x288 with 9 Axes>"
      ]
     },
     "metadata": {
      "needs_background": "light"
     },
     "output_type": "display_data"
    }
   ],
   "source": [
    "df.hist()"
   ]
  },
  {
   "cell_type": "code",
   "execution_count": 81,
   "metadata": {},
   "outputs": [],
   "source": [
    "y = df[\"Overweight\"]\n",
    "X = df[[\"Sex\", \"Age\", \"Height\", \"Weight\", \"body_fat\", \"BMI\"]]"
   ]
  },
  {
   "cell_type": "code",
   "execution_count": 82,
   "metadata": {},
   "outputs": [
    {
     "data": {
      "text/html": [
       "<div>\n",
       "<style scoped>\n",
       "    .dataframe tbody tr th:only-of-type {\n",
       "        vertical-align: middle;\n",
       "    }\n",
       "\n",
       "    .dataframe tbody tr th {\n",
       "        vertical-align: top;\n",
       "    }\n",
       "\n",
       "    .dataframe thead th {\n",
       "        text-align: right;\n",
       "    }\n",
       "</style>\n",
       "<table border=\"1\" class=\"dataframe\">\n",
       "  <thead>\n",
       "    <tr style=\"text-align: right;\">\n",
       "      <th></th>\n",
       "      <th>Sex</th>\n",
       "      <th>Age</th>\n",
       "      <th>Height</th>\n",
       "      <th>Weight</th>\n",
       "      <th>body_fat</th>\n",
       "      <th>BMI</th>\n",
       "    </tr>\n",
       "  </thead>\n",
       "  <tbody>\n",
       "    <tr>\n",
       "      <th>0</th>\n",
       "      <td>0.0</td>\n",
       "      <td>21.000000</td>\n",
       "      <td>1.620000</td>\n",
       "      <td>64.000000</td>\n",
       "      <td>19.847090</td>\n",
       "      <td>24.386526</td>\n",
       "    </tr>\n",
       "    <tr>\n",
       "      <th>1</th>\n",
       "      <td>0.0</td>\n",
       "      <td>21.000000</td>\n",
       "      <td>1.520000</td>\n",
       "      <td>56.000000</td>\n",
       "      <td>19.594656</td>\n",
       "      <td>24.238227</td>\n",
       "    </tr>\n",
       "    <tr>\n",
       "      <th>2</th>\n",
       "      <td>1.0</td>\n",
       "      <td>23.000000</td>\n",
       "      <td>1.800000</td>\n",
       "      <td>77.000000</td>\n",
       "      <td>31.242690</td>\n",
       "      <td>23.765432</td>\n",
       "    </tr>\n",
       "    <tr>\n",
       "      <th>3</th>\n",
       "      <td>1.0</td>\n",
       "      <td>27.000000</td>\n",
       "      <td>1.800000</td>\n",
       "      <td>87.000000</td>\n",
       "      <td>36.552773</td>\n",
       "      <td>26.851852</td>\n",
       "    </tr>\n",
       "    <tr>\n",
       "      <th>4</th>\n",
       "      <td>1.0</td>\n",
       "      <td>22.000000</td>\n",
       "      <td>1.780000</td>\n",
       "      <td>89.800000</td>\n",
       "      <td>38.137551</td>\n",
       "      <td>28.342381</td>\n",
       "    </tr>\n",
       "    <tr>\n",
       "      <th>...</th>\n",
       "      <td>...</td>\n",
       "      <td>...</td>\n",
       "      <td>...</td>\n",
       "      <td>...</td>\n",
       "      <td>...</td>\n",
       "      <td>...</td>\n",
       "    </tr>\n",
       "    <tr>\n",
       "      <th>2106</th>\n",
       "      <td>0.0</td>\n",
       "      <td>20.976842</td>\n",
       "      <td>1.710730</td>\n",
       "      <td>131.408528</td>\n",
       "      <td>45.614687</td>\n",
       "      <td>44.901475</td>\n",
       "    </tr>\n",
       "    <tr>\n",
       "      <th>2107</th>\n",
       "      <td>0.0</td>\n",
       "      <td>21.982942</td>\n",
       "      <td>1.748584</td>\n",
       "      <td>133.742943</td>\n",
       "      <td>44.672875</td>\n",
       "      <td>43.741923</td>\n",
       "    </tr>\n",
       "    <tr>\n",
       "      <th>2108</th>\n",
       "      <td>0.0</td>\n",
       "      <td>22.524036</td>\n",
       "      <td>1.752206</td>\n",
       "      <td>133.689352</td>\n",
       "      <td>44.517736</td>\n",
       "      <td>43.543817</td>\n",
       "    </tr>\n",
       "    <tr>\n",
       "      <th>2109</th>\n",
       "      <td>0.0</td>\n",
       "      <td>24.361936</td>\n",
       "      <td>1.739450</td>\n",
       "      <td>133.346641</td>\n",
       "      <td>45.024620</td>\n",
       "      <td>44.071535</td>\n",
       "    </tr>\n",
       "    <tr>\n",
       "      <th>2110</th>\n",
       "      <td>0.0</td>\n",
       "      <td>23.664709</td>\n",
       "      <td>1.738836</td>\n",
       "      <td>133.472641</td>\n",
       "      <td>45.065494</td>\n",
       "      <td>44.144338</td>\n",
       "    </tr>\n",
       "  </tbody>\n",
       "</table>\n",
       "<p>2111 rows × 6 columns</p>\n",
       "</div>"
      ],
      "text/plain": [
       "      Sex        Age    Height      Weight   body_fat        BMI\n",
       "0     0.0  21.000000  1.620000   64.000000  19.847090  24.386526\n",
       "1     0.0  21.000000  1.520000   56.000000  19.594656  24.238227\n",
       "2     1.0  23.000000  1.800000   77.000000  31.242690  23.765432\n",
       "3     1.0  27.000000  1.800000   87.000000  36.552773  26.851852\n",
       "4     1.0  22.000000  1.780000   89.800000  38.137551  28.342381\n",
       "...   ...        ...       ...         ...        ...        ...\n",
       "2106  0.0  20.976842  1.710730  131.408528  45.614687  44.901475\n",
       "2107  0.0  21.982942  1.748584  133.742943  44.672875  43.741923\n",
       "2108  0.0  22.524036  1.752206  133.689352  44.517736  43.543817\n",
       "2109  0.0  24.361936  1.739450  133.346641  45.024620  44.071535\n",
       "2110  0.0  23.664709  1.738836  133.472641  45.065494  44.144338\n",
       "\n",
       "[2111 rows x 6 columns]"
      ]
     },
     "execution_count": 82,
     "metadata": {},
     "output_type": "execute_result"
    }
   ],
   "source": [
    "X"
   ]
  },
  {
   "cell_type": "code",
   "execution_count": 83,
   "metadata": {},
   "outputs": [],
   "source": [
    "from sklearn.model_selection import train_test_split\n",
    "X_train,X_test,y_train,y_test=train_test_split(X,y,test_size=0.25,random_state=0)"
   ]
  },
  {
   "cell_type": "code",
   "execution_count": 84,
   "metadata": {},
   "outputs": [
    {
     "name": "stderr",
     "output_type": "stream",
     "text": [
      "I:\\ana\\lib\\site-packages\\sklearn\\linear_model\\_logistic.py:940: ConvergenceWarning: lbfgs failed to converge (status=1):\n",
      "STOP: TOTAL NO. of ITERATIONS REACHED LIMIT.\n",
      "\n",
      "Increase the number of iterations (max_iter) or scale the data as shown in:\n",
      "    https://scikit-learn.org/stable/modules/preprocessing.html\n",
      "Please also refer to the documentation for alternative solver options:\n",
      "    https://scikit-learn.org/stable/modules/linear_model.html#logistic-regression\n",
      "  extra_warning_msg=_LOGISTIC_SOLVER_CONVERGENCE_MSG)\n"
     ]
    }
   ],
   "source": [
    "# import the class\n",
    "from sklearn.linear_model import LogisticRegression\n",
    "\n",
    "# instantiate the model (using the default parameters)\n",
    "logreg = LogisticRegression()\n",
    "\n",
    "# fit the model with data\n",
    "logreg.fit(X_train,y_train)\n",
    "\n",
    "#\n",
    "y_pred=logreg.predict(X_test)"
   ]
  },
  {
   "cell_type": "code",
   "execution_count": 85,
   "metadata": {},
   "outputs": [
    {
     "data": {
      "text/plain": [
       "array([[170,   1],\n",
       "       [  2, 355]], dtype=int64)"
      ]
     },
     "execution_count": 85,
     "metadata": {},
     "output_type": "execute_result"
    }
   ],
   "source": [
    "from sklearn import metrics\n",
    "cnf_matrix = metrics.confusion_matrix(y_test, y_pred)\n",
    "cnf_matrix"
   ]
  },
  {
   "cell_type": "code",
   "execution_count": 86,
   "metadata": {},
   "outputs": [],
   "source": [
    "# import required modules\n",
    "import numpy as np\n",
    "import matplotlib.pyplot as plt\n",
    "import seaborn as sns\n",
    "%matplotlib inline\n"
   ]
  },
  {
   "cell_type": "code",
   "execution_count": 87,
   "metadata": {},
   "outputs": [
    {
     "data": {
      "text/plain": [
       "Text(0.5, 257.44, 'Predicted label')"
      ]
     },
     "execution_count": 87,
     "metadata": {},
     "output_type": "execute_result"
    },
    {
     "data": {
      "image/png": "[encoded data removed]",
      "text/plain": [
       "<Figure size 432x288 with 2 Axes>"
      ]
     },
     "metadata": {
      "needs_background": "light"
     },
     "output_type": "display_data"
    }
   ],
   "source": [
    "class_names=[0,1] # name  of classes\n",
    "fig, ax = plt.subplots()\n",
    "tick_marks = np.arange(len(class_names))\n",
    "plt.xticks(tick_marks, class_names)\n",
    "plt.yticks(tick_marks, class_names)\n",
    "# create heatmap\n",
    "sns.heatmap(pd.DataFrame(cnf_matrix), annot=True, cmap=\"YlGnBu\" ,fmt='g')\n",
    "ax.xaxis.set_label_position(\"top\")\n",
    "plt.tight_layout()\n",
    "plt.title('Confusion matrix', y=1.1)\n",
    "plt.ylabel('Actual label')\n",
    "plt.xlabel('Predicted label')"
   ]
  },
  {
   "cell_type": "code",
   "execution_count": 88,
   "metadata": {},
   "outputs": [
    {
     "name": "stdout",
     "output_type": "stream",
     "text": [
      "Accuracy: 0.9943181818181818\n",
      "Precision: 0.9971910112359551\n",
      "Recall: 0.9943977591036415\n"
     ]
    }
   ],
   "source": [
    "print(\"Accuracy:\",metrics.accuracy_score(y_test, y_pred))\n",
    "print(\"Precision:\",metrics.precision_score(y_test, y_pred))\n",
    "print(\"Recall:\",metrics.recall_score(y_test, y_pred))"
   ]
  },
  {
   "cell_type": "code",
   "execution_count": 89,
   "metadata": {},
   "outputs": [
    {
     "data": {
      "image/png": "[encoded data removed]",
      "text/plain": [
       "<Figure size 432x288 with 1 Axes>"
      ]
     },
     "metadata": {
      "needs_background": "light"
     },
     "output_type": "display_data"
    }
   ],
   "source": [
    "y_pred_proba = logreg.predict_proba(X_test)[::,1]\n",
    "fpr, tpr, _ = metrics.roc_curve(y_test,  y_pred_proba)\n",
    "auc = metrics.roc_auc_score(y_test, y_pred_proba)\n",
    "plt.plot(fpr,tpr,label=\"data 1, auc=\"+str(auc))\n",
    "plt.legend(loc=4)\n",
    "plt.show()"
   ]
  },
  {
   "cell_type": "code",
   "execution_count": null,
   "metadata": {},
   "outputs": [],
   "source": []
  }
 ],
 "metadata": {
  "kernelspec": {
   "display_name": "Python 3",
   "language": "python",
   "name": "python3"
  },
  "language_info": {
   "codemirror_mode": {
    "name": "ipython",
    "version": 3
   },
   "file_extension": ".py",
   "mimetype": "text/x-python",
   "name": "python",
   "nbconvert_exporter": "python",
   "pygments_lexer": "ipython3",
   "version": "3.7.6"
  }
 },
 "nbformat": 4,
 "nbformat_minor": 4
}
